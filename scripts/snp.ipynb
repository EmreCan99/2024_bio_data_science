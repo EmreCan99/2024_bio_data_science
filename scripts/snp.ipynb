{
 "cells": [
  {
   "cell_type": "code",
   "execution_count": 2,
   "metadata": {},
   "outputs": [],
   "source": [
    "import pandas as pd\n",
    "import numpy as np\n",
    "import matplotlib.pyplot as plt\n",
    "import seaborn as sns"
   ]
  },
  {
   "cell_type": "code",
   "execution_count": 42,
   "metadata": {},
   "outputs": [
    {
     "name": "stdout",
     "output_type": "stream",
     "text": [
      "<class 'pandas.core.frame.DataFrame'>\n",
      "RangeIndex: 610544 entries, 0 to 610543\n",
      "Data columns (total 2 columns):\n",
      " #   Column    Non-Null Count   Dtype \n",
      "---  ------    --------------   ----- \n",
      " 0   ID        610544 non-null  object\n",
      " 1   genotype  610544 non-null  object\n",
      "dtypes: object(2)\n",
      "memory usage: 9.3+ MB\n"
     ]
    },
    {
     "name": "stderr",
     "output_type": "stream",
     "text": [
      "/var/folders/gr/_y8q_rln3m96p43ww2syvzj40000gn/T/ipykernel_42582/1695796459.py:1: DtypeWarning: Columns (1) have mixed types. Specify dtype option on import or set low_memory=False.\n",
      "  genotype = pd.read_csv(\"/Users/emrecanciftci/betik/2024_bio/large_data/07_Ch7/Supplementary files/genotype.csv\")\n"
     ]
    }
   ],
   "source": [
    "genotype = pd.read_csv(\"/Users/emrecanciftci/betik/2024_bio/large_data/07_Ch7/Supplementary files/genotype.csv\")\n",
    "genotype.rename(columns={\"# rsid\":\"ID\"}, inplace=True)\n",
    "genotype = pd.concat([genotype.iloc[:,0],genotype.iloc[:,3]],axis=1)\n",
    "genotype.info()"
   ]
  },
  {
   "cell_type": "code",
   "execution_count": null,
   "metadata": {},
   "outputs": [],
   "source": [
    "phenotype = pd.read_csv(\"/Users/emrecanciftci/betik/2024_bio/large_data/07_Ch7/Supplementary files/phenotype.tsv\", sep=\"\\t\")\n",
    "phenotype.info()"
   ]
  },
  {
   "cell_type": "code",
   "execution_count": 52,
   "metadata": {},
   "outputs": [
    {
     "name": "stdout",
     "output_type": "stream",
     "text": [
      "<class 'pandas.core.frame.DataFrame'>\n",
      "RangeIndex: 4561 entries, 0 to 4560\n",
      "Data columns (total 4 columns):\n",
      " #   Column             Non-Null Count  Dtype \n",
      "---  ------             --------------  ----- \n",
      " 0   ID                 4561 non-null   object\n",
      " 1   Annotation Text    4561 non-null   object\n",
      " 2   Related Chemicals  4561 non-null   object\n",
      " 3   Related Diseases   3633 non-null   object\n",
      "dtypes: object(4)\n",
      "memory usage: 142.7+ KB\n"
     ]
    }
   ],
   "source": [
    "pd.set_option(\"display.max_colwidth\", 200)\n",
    "\n",
    "phenotype.rename(columns={\"Location\":\"ID\"}, inplace=True)\n",
    "phenotype = pd.concat([phenotype.iloc[:,2],phenotype.iloc[:,7], phenotype.iloc[:,12], phenotype.iloc[:,13]], axis=1)\n",
    "phenotype.info()\n"
   ]
  },
  {
   "cell_type": "code",
   "execution_count": 54,
   "metadata": {},
   "outputs": [
    {
     "name": "stdout",
     "output_type": "stream",
     "text": [
      "<class 'pandas.core.frame.DataFrame'>\n",
      "RangeIndex: 2331 entries, 0 to 2330\n",
      "Data columns (total 5 columns):\n",
      " #   Column             Non-Null Count  Dtype \n",
      "---  ------             --------------  ----- \n",
      " 0   ID                 2331 non-null   object\n",
      " 1   genotype           2331 non-null   object\n",
      " 2   Annotation Text    2331 non-null   object\n",
      " 3   Related Chemicals  2331 non-null   object\n",
      " 4   Related Diseases   1873 non-null   object\n",
      "dtypes: object(5)\n",
      "memory usage: 91.2+ KB\n"
     ]
    }
   ],
   "source": [
    "pheno_table = pd.merge(genotype,phenotype, on=\"ID\")\n",
    "pheno_table.info()"
   ]
  },
  {
   "cell_type": "code",
   "execution_count": null,
   "metadata": {},
   "outputs": [],
   "source": [
    "pheno_table.groupby(\"Related Chemicals\").describe()"
   ]
  },
  {
   "cell_type": "code",
   "execution_count": 61,
   "metadata": {},
   "outputs": [
    {
     "data": {
      "text/html": [
       "<div>\n",
       "<style scoped>\n",
       "    .dataframe tbody tr th:only-of-type {\n",
       "        vertical-align: middle;\n",
       "    }\n",
       "\n",
       "    .dataframe tbody tr th {\n",
       "        vertical-align: top;\n",
       "    }\n",
       "\n",
       "    .dataframe thead th {\n",
       "        text-align: right;\n",
       "    }\n",
       "</style>\n",
       "<table border=\"1\" class=\"dataframe\">\n",
       "  <thead>\n",
       "    <tr style=\"text-align: right;\">\n",
       "      <th></th>\n",
       "      <th>ID</th>\n",
       "      <th>genotype</th>\n",
       "      <th>Annotation Text</th>\n",
       "      <th>Related Chemicals</th>\n",
       "      <th>Related Diseases</th>\n",
       "    </tr>\n",
       "  </thead>\n",
       "  <tbody>\n",
       "    <tr>\n",
       "      <th>851</th>\n",
       "      <td>rs712829</td>\n",
       "      <td>--</td>\n",
       "      <td>GG:Cancer cells with the GG genotype may be more sensitive to Alkylating agents than are cells with genotype GT or TT. Other genetic and clinical factors may also influence tumor response to Alkyl...</td>\n",
       "      <td>Alkylating Agents (PA164712331)</td>\n",
       "      <td>Neoplasms (PA445062)</td>\n",
       "    </tr>\n",
       "  </tbody>\n",
       "</table>\n",
       "</div>"
      ],
      "text/plain": [
       "           ID genotype  \\\n",
       "851  rs712829       --   \n",
       "\n",
       "                                                                                                                                                                                             Annotation Text  \\\n",
       "851  GG:Cancer cells with the GG genotype may be more sensitive to Alkylating agents than are cells with genotype GT or TT. Other genetic and clinical factors may also influence tumor response to Alkyl...   \n",
       "\n",
       "                   Related Chemicals      Related Diseases  \n",
       "851  Alkylating Agents (PA164712331)  Neoplasms (PA445062)  "
      ]
     },
     "execution_count": 61,
     "metadata": {},
     "output_type": "execute_result"
    }
   ],
   "source": [
    "drugs_phenotype = {k: v for k, v in pheno_table.groupby('Related Chemicals')}\n",
    "drugs_phenotype[\"Alkylating Agents (PA164712331)\"]"
   ]
  },
  {
   "cell_type": "code",
   "execution_count": null,
   "metadata": {},
   "outputs": [],
   "source": []
  }
 ],
 "metadata": {
  "kernelspec": {
   "display_name": "env-bio",
   "language": "python",
   "name": "python3"
  },
  "language_info": {
   "codemirror_mode": {
    "name": "ipython",
    "version": 3
   },
   "file_extension": ".py",
   "mimetype": "text/x-python",
   "name": "python",
   "nbconvert_exporter": "python",
   "pygments_lexer": "ipython3",
   "version": "3.11.11"
  }
 },
 "nbformat": 4,
 "nbformat_minor": 2
}
