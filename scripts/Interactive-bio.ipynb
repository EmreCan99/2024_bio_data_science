{
 "cells": [
  {
   "cell_type": "code",
   "execution_count": 59,
   "metadata": {},
   "outputs": [
    {
     "name": "stdout",
     "output_type": "stream",
     "text": [
      "ID: P62945\n",
      "Name: RL41_HUMAN\n",
      "Description: 60S ribosomal protein L41\n",
      "Number of features: 0\n",
      "Seq('MRAKWRKKRMRRLKRKRRKMRQRSK')\n"
     ]
    }
   ],
   "source": [
    "import pandas as pd\n",
    "import numpy as np\n",
    "import matplotlib.pyplot as plt\n",
    "from  Bio.Seq import Seq\n",
    "from Bio.SeqRecord import SeqRecord\n",
    "from Bio import SeqIO\n",
    "\n",
    "protein = SeqRecord(Seq(\"MRAKWRKKRMRRLKRKRRKMRQRSK\"),\n",
    "id=\"P62945\", name=\"RL41_HUMAN\",\n",
    "description=\"60S ribosomal protein L41\")\n",
    "\n",
    "\n",
    "SeqIO.write(protein, \"example1.fasta\", \"fasta\")\n",
    "\n",
    "print(protein)"
   ]
  }
 ],
 "metadata": {
  "kernelspec": {
   "display_name": "env-bio",
   "language": "python",
   "name": "python3"
  },
  "language_info": {
   "codemirror_mode": {
    "name": "ipython",
    "version": 3
   },
   "file_extension": ".py",
   "mimetype": "text/x-python",
   "name": "python",
   "nbconvert_exporter": "python",
   "pygments_lexer": "ipython3",
   "version": "3.11.11"
  }
 },
 "nbformat": 4,
 "nbformat_minor": 2
}
